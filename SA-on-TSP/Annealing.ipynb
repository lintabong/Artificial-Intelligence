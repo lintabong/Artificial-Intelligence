{
  "nbformat": 4,
  "nbformat_minor": 0,
  "metadata": {
    "colab": {
      "name": "Annealing.ipynb",
      "provenance": [],
      "authorship_tag": "ABX9TyPVJvS8/JDT28c+FVL9vqkC",
      "include_colab_link": true
    },
    "kernelspec": {
      "name": "python3",
      "display_name": "Python 3"
    },
    "language_info": {
      "name": "python"
    }
  },
  "cells": [
    {
      "cell_type": "markdown",
      "metadata": {
        "id": "view-in-github",
        "colab_type": "text"
      },
      "source": [
        "<a href=\"https://colab.research.google.com/github/lintabong/Artificial-Intelligence/blob/main/SA-on-TSP/Annealing.ipynb\" target=\"_parent\"><img src=\"https://colab.research.google.com/assets/colab-badge.svg\" alt=\"Open In Colab\"/></a>"
      ]
    },
    {
      "cell_type": "markdown",
      "source": [
        "Import library needed to make simulated annealing"
      ],
      "metadata": {
        "id": "bGbjXr2iBjcE"
      }
    },
    {
      "cell_type": "code",
      "execution_count": 73,
      "metadata": {
        "id": "1PtJVk2ruO1s"
      },
      "outputs": [],
      "source": [
        "import pandas as pd\n",
        "import numpy as np\n",
        "import copy\n",
        "import math\n",
        "import random\n",
        "from math import e\n",
        "import matplotlib.pyplot as plt\n",
        "import datetime\n",
        "import random\n",
        "import time"
      ]
    },
    {
      "cell_type": "code",
      "source": [
        "tMax          = 1000\n",
        "tMin          = 1\n",
        "coolingRate   = 0.9\n",
        "maxIteration  = 50\n",
        "\n",
        "tNow          = tMax\n",
        "iteration     = 0\n",
        "gen           = 7\n",
        "\n",
        "method        = ''"
      ],
      "metadata": {
        "id": "fnikyVulvk05"
      },
      "execution_count": 26,
      "outputs": []
    },
    {
      "cell_type": "code",
      "source": [
        "# data  A0 A1 A2 A3 A4 A5 A6\n",
        "time = [[0, 5, 6, 2, 1, 4, 7], # A0\n",
        "        [5, 0, 3, 4, 4, 7, 2], # A1\n",
        "        [6, 3, 0, 3, 5, 2, 1], # A2\n",
        "        [2, 4, 3, 0, 1, 3, 2], # A3\n",
        "        [1, 4, 5, 1, 0, 3, 3], # A4\n",
        "        [4, 7, 2, 3, 3, 0, 4], # A5\n",
        "        [7, 2, 1, 2, 3, 4, 0]] # A6"
      ],
      "metadata": {
        "id": "-_L37e5D55_6"
      },
      "execution_count": 67,
      "outputs": []
    },
    {
      "cell_type": "code",
      "source": [
        "print(time[1][2])"
      ],
      "metadata": {
        "colab": {
          "base_uri": "https://localhost:8080/"
        },
        "id": "JNvkGiPXAfJg",
        "outputId": "5e7d0b8a-afa7-4791-f65b-e6b4cd29d811"
      },
      "execution_count": 63,
      "outputs": [
        {
          "output_type": "stream",
          "name": "stdout",
          "text": [
            "3\n"
          ]
        }
      ]
    },
    {
      "cell_type": "code",
      "source": [
        "X = np.zeros(gen + 1, dtype= int)\n",
        "\n",
        "print(X)\n",
        "\n",
        "for i in range(len(X)):\n",
        "  if i == len(X) - 1:\n",
        "    X[i] = 0\n",
        "  else:\n",
        "    X[i] = i\n",
        "\n",
        "print(X)"
      ],
      "metadata": {
        "colab": {
          "base_uri": "https://localhost:8080/"
        },
        "id": "-RLyHyfB5oUP",
        "outputId": "bbfcba1d-f468-4b28-82e0-f3b0b838cfe9"
      },
      "execution_count": 42,
      "outputs": [
        {
          "output_type": "stream",
          "name": "stdout",
          "text": [
            "[0 0 0 0 0 0 0 0]\n",
            "[0 1 2 3 4 5 6 0]\n"
          ]
        }
      ]
    },
    {
      "cell_type": "markdown",
      "source": [
        "fitness function measurement"
      ],
      "metadata": {
        "id": "W5vCo0_F-wrC"
      }
    },
    {
      "cell_type": "code",
      "source": [
        "timeConsume = 0\n",
        "\n",
        "for i in range(len(X)):\n",
        "  if i <= len(X) - 2:\n",
        "    timeConsume = timeConsume + time[int(X[i])][int(X[i+1])]\n",
        "\n",
        "print('total time:', timeConsume)\n",
        "\n",
        "X_fitness = 1 / (1 + timeConsume)\n",
        "\n",
        "print('fitness value:', X_fitness)"
      ],
      "metadata": {
        "colab": {
          "base_uri": "https://localhost:8080/"
        },
        "id": "UndLwBxH-wMe",
        "outputId": "ad946d86-2e66-4e15-8d8a-d30c7a9afd44"
      },
      "execution_count": 70,
      "outputs": [
        {
          "output_type": "stream",
          "name": "stdout",
          "text": [
            "total time: 26\n",
            "fitness value: 0.037037037037037035\n"
          ]
        }
      ]
    },
    {
      "cell_type": "code",
      "source": [
        "iteration = 0\n",
        "\n",
        "while tNow > tMin:\n",
        "  r = random.random()\n",
        "\n",
        "  if r <= 0.33:\n",
        "    method = 'swap  '\n",
        "\n",
        "  elif r >= 0.33 and r <= 66:\n",
        "    method = 'insert'\n",
        "\n",
        "  else:\n",
        "    method = '2opt  '\n",
        "\n",
        "\n",
        "  \n",
        "  iteration = iteration + 1\n",
        "  if iteration == maxIteration:\n",
        "    # tNow = tNow * coolingRate\n",
        "    break\n",
        "  \n",
        "  print(iteration, method, X)\n",
        "\n",
        "  "
      ],
      "metadata": {
        "id": "h2lu49_dFBD-"
      },
      "execution_count": null,
      "outputs": []
    },
    {
      "cell_type": "code",
      "source": [
        "Xnew = X[:]\n",
        "offspring = X[:]\n",
        "\n",
        "\n",
        "y = round((len(offspring) - 3)/2)\n",
        "\n",
        "sw0 = y\n",
        "sw1 = len(offspring) - (y + 1)\n",
        "\n"
      ],
      "metadata": {
        "colab": {
          "base_uri": "https://localhost:8080/"
        },
        "id": "UfnNXWE9H4oK",
        "outputId": "66f4dd8e-7bd5-4b8d-be89-b96bd3b0589d"
      },
      "execution_count": 99,
      "outputs": [
        {
          "output_type": "stream",
          "name": "stdout",
          "text": [
            "2 5\n"
          ]
        }
      ]
    }
  ]
}