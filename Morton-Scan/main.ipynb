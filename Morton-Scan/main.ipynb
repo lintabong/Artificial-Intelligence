{
  "nbformat": 4,
  "nbformat_minor": 0,
  "metadata": {
    "colab": {
      "name": "Untitled2.ipynb",
      "provenance": [],
      "authorship_tag": "ABX9TyOthgd9UtBRCsQ/iec0fY5C",
      "include_colab_link": true
    },
    "kernelspec": {
      "name": "python3",
      "display_name": "Python 3"
    },
    "language_info": {
      "name": "python"
    }
  },
  "cells": [
    {
      "cell_type": "markdown",
      "metadata": {
        "id": "view-in-github",
        "colab_type": "text"
      },
      "source": [
        "<a href=\"https://colab.research.google.com/github/lintabong/Artificial-Intelligence/blob/main/Morton-Scan/main.ipynb\" target=\"_parent\"><img src=\"https://colab.research.google.com/assets/colab-badge.svg\" alt=\"Open In Colab\"/></a>"
      ]
    },
    {
      "cell_type": "code",
      "execution_count": 1,
      "metadata": {
        "id": "PXl2ctSuLZVp"
      },
      "outputs": [],
      "source": [
        "import cv2\n",
        "import numpy\n",
        "import random"
      ]
    },
    {
      "cell_type": "code",
      "source": [
        "img = numpy.ones([6, 9, 3], dtype=\"uint8\")\n",
        "\n",
        "for i in range(img.shape[0]):\n",
        "    for j in range(img.shape[1]):\n",
        "        for k in range(img.shape[2]):\n",
        "            img[i][j][k] = random.randint(0,256)\n",
        "\n",
        "print(img)"
      ],
      "metadata": {
        "colab": {
          "base_uri": "https://localhost:8080/"
        },
        "id": "uG2cL0DXLmBi",
        "outputId": "2a6400f5-53ab-49dd-9df3-3bf818e13772"
      },
      "execution_count": 2,
      "outputs": [
        {
          "output_type": "stream",
          "name": "stdout",
          "text": [
            "[[[243 112 101]\n",
            "  [135 228 125]\n",
            "  [148 146 133]\n",
            "  [171 231 213]\n",
            "  [  4 128 227]\n",
            "  [231 174 185]\n",
            "  [101   5 214]\n",
            "  [227  92  59]\n",
            "  [154  97 213]]\n",
            "\n",
            " [[ 55  50 167]\n",
            "  [ 30  90 160]\n",
            "  [130  22 172]\n",
            "  [ 94  19 122]\n",
            "  [ 92 162 182]\n",
            "  [179 182  56]\n",
            "  [  0 236   3]\n",
            "  [ 37   7 123]\n",
            "  [ 50 151 181]]\n",
            "\n",
            " [[192  81 123]\n",
            "  [ 50   4  79]\n",
            "  [200 121 162]\n",
            "  [185 167  91]\n",
            "  [ 55 120  64]\n",
            "  [126 102 229]\n",
            "  [236 171 253]\n",
            "  [141 165  71]\n",
            "  [225   2 136]]\n",
            "\n",
            " [[  8  27  51]\n",
            "  [219  61 100]\n",
            "  [ 38 176  49]\n",
            "  [124 207  73]\n",
            "  [224 105  26]\n",
            "  [  2  18 238]\n",
            "  [177  37 164]\n",
            "  [127 127  27]\n",
            "  [136  83   4]]\n",
            "\n",
            " [[187 117  17]\n",
            "  [204 249  51]\n",
            "  [ 21   5 204]\n",
            "  [143 203  57]\n",
            "  [ 49 114 168]\n",
            "  [241 149  12]\n",
            "  [208 203  10]\n",
            "  [ 43 157  21]\n",
            "  [131  50 219]]\n",
            "\n",
            " [[154 239 126]\n",
            "  [ 95 156  16]\n",
            "  [130 191  51]\n",
            "  [253 159  78]\n",
            "  [237 238 139]\n",
            "  [241  56 206]\n",
            "  [255 172  33]\n",
            "  [  5 134 247]\n",
            "  [112  15 226]]]\n"
          ]
        }
      ]
    },
    {
      "cell_type": "code",
      "source": [
        "imgr = numpy.ones([6, 9, 1], dtype=\"uint8\")\n",
        "\n",
        "for i in range(img.shape[0]):\n",
        "    for j in range(img.shape[1]):\n",
        "        imgr[i][j] = (int(img[i][j][0]) + int(img[i][j][1]) + int(img[i][j][2]))/3\n",
        "\n",
        "print(imgr)"
      ],
      "metadata": {
        "colab": {
          "base_uri": "https://localhost:8080/"
        },
        "id": "HgUIyVx0Lg_b",
        "outputId": "eaddb33e-5c2c-4b2b-8808-aee3b2e0a797"
      },
      "execution_count": 3,
      "outputs": [
        {
          "output_type": "stream",
          "name": "stdout",
          "text": [
            "[[[152]\n",
            "  [162]\n",
            "  [142]\n",
            "  [205]\n",
            "  [119]\n",
            "  [196]\n",
            "  [106]\n",
            "  [126]\n",
            "  [154]]\n",
            "\n",
            " [[ 90]\n",
            "  [ 93]\n",
            "  [108]\n",
            "  [ 78]\n",
            "  [145]\n",
            "  [139]\n",
            "  [ 79]\n",
            "  [ 55]\n",
            "  [127]]\n",
            "\n",
            " [[132]\n",
            "  [ 44]\n",
            "  [161]\n",
            "  [147]\n",
            "  [ 79]\n",
            "  [152]\n",
            "  [220]\n",
            "  [125]\n",
            "  [121]]\n",
            "\n",
            " [[ 28]\n",
            "  [126]\n",
            "  [ 87]\n",
            "  [134]\n",
            "  [118]\n",
            "  [ 86]\n",
            "  [126]\n",
            "  [ 93]\n",
            "  [ 74]]\n",
            "\n",
            " [[107]\n",
            "  [168]\n",
            "  [ 76]\n",
            "  [134]\n",
            "  [110]\n",
            "  [134]\n",
            "  [140]\n",
            "  [ 73]\n",
            "  [133]]\n",
            "\n",
            " [[173]\n",
            "  [ 89]\n",
            "  [124]\n",
            "  [163]\n",
            "  [204]\n",
            "  [167]\n",
            "  [153]\n",
            "  [128]\n",
            "  [117]]]\n"
          ]
        }
      ]
    },
    {
      "cell_type": "code",
      "source": [
        "for i in range(imgr.shape[0]):\n",
        "  print(imgr[i][0],imgr[i][1],imgr[i][2],imgr[i][3])"
      ],
      "metadata": {
        "colab": {
          "base_uri": "https://localhost:8080/"
        },
        "id": "Ew9_bNuTMvdp",
        "outputId": "6203e436-458d-4a24-9403-4df5dbf01022"
      },
      "execution_count": 4,
      "outputs": [
        {
          "output_type": "stream",
          "name": "stdout",
          "text": [
            "[152] [162] [142] [205]\n",
            "[90] [93] [108] [78]\n",
            "[132] [44] [161] [147]\n",
            "[28] [126] [87] [134]\n",
            "[107] [168] [76] [134]\n",
            "[173] [89] [124] [163]\n"
          ]
        }
      ]
    },
    {
      "cell_type": "code",
      "source": [
        "morton = []\n",
        "s = 2\n",
        "d = 2\n",
        "for s in range(0,imgr.shape[0]-2,2):\n",
        "  for d in range(0,imgr.shape[1]-2,2):\n",
        "    for i in range(s,2+s):\n",
        "      for j in range(d,2+d):\n",
        "        morton.append(imgr[i][j][0])\n",
        "\n",
        "print(morton)"
      ],
      "metadata": {
        "colab": {
          "base_uri": "https://localhost:8080/"
        },
        "id": "a544Ks1mnfIA",
        "outputId": "2a1b2542-8f33-4213-ce85-b0082efdc516"
      },
      "execution_count": 5,
      "outputs": [
        {
          "output_type": "stream",
          "name": "stdout",
          "text": [
            "[152, 162, 90, 93, 142, 205, 108, 78, 119, 196, 145, 139, 106, 126, 79, 55, 132, 44, 28, 126, 161, 147, 87, 134, 79, 152, 118, 86, 220, 125, 126, 93]\n"
          ]
        }
      ]
    }
  ]
}