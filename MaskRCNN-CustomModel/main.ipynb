{
  "nbformat": 4,
  "nbformat_minor": 0,
  "metadata": {
    "colab": {
      "name": "customModel.ipynb",
      "provenance": [],
      "collapsed_sections": [],
      "authorship_tag": "ABX9TyPhGyDhk20SYdSCTczxNOQ3",
      "include_colab_link": true
    },
    "kernelspec": {
      "name": "python3",
      "display_name": "Python 3"
    },
    "language_info": {
      "name": "python"
    }
  },
  "cells": [
    {
      "cell_type": "markdown",
      "metadata": {
        "id": "view-in-github",
        "colab_type": "text"
      },
      "source": [
        "<a href=\"https://colab.research.google.com/github/lintabong/Artificial-Intelligence/blob/main/MaskRCNN-CustomModel/main.ipynb\" target=\"_parent\"><img src=\"https://colab.research.google.com/assets/colab-badge.svg\" alt=\"Open In Colab\"/></a>"
      ]
    },
    {
      "cell_type": "code",
      "source": [
        "# !pip install tensorflow==2.4.3\n",
        "# !pip install keras==2.4.1\n",
        "\n",
        "\n",
        "!pip install tensorflow==1.13.1\n",
        "!pip install keras==2.1.0"
      ],
      "metadata": {
        "id": "1_6xmhGVyKg-"
      },
      "execution_count": null,
      "outputs": []
    },
    {
      "cell_type": "code",
      "source": [
        "from google.colab import drive\n",
        "drive.mount('/content/drive')\n",
        "import sys\n",
        "sys.path.insert(0,'/content/drive/MyDrive/Mask_R-CNN/mask3')"
      ],
      "metadata": {
        "colab": {
          "base_uri": "https://localhost:8080/"
        },
        "id": "NqrBSU1JxfR7",
        "outputId": "2f8d0a2d-90af-4e69-9270-d720bf39884d"
      },
      "execution_count": 1,
      "outputs": [
        {
          "output_type": "stream",
          "name": "stdout",
          "text": [
            "Drive already mounted at /content/drive; to attempt to forcibly remount, call drive.mount(\"/content/drive\", force_remount=True).\n"
          ]
        }
      ]
    },
    {
      "cell_type": "code",
      "execution_count": 3,
      "metadata": {
        "id": "KqUeGqDjwxWQ"
      },
      "outputs": [],
      "source": [
        "import warnings\n",
        "warnings.filterwarnings('ignore')\n",
        "import os\n",
        "import sys\n",
        "import json\n",
        "import datetime\n",
        "import numpy as np\n",
        "import skimage.draw\n",
        "import cv2\n",
        "import random\n",
        "import math\n",
        "import re\n",
        "import time\n",
        "import tensorflow as tf\n",
        "import matplotlib.pyplot as plt\n",
        "import matplotlib.patches as patches\n",
        "import matplotlib.image as mpimg"
      ]
    },
    {
      "cell_type": "code",
      "source": [
        "ROOT_DIR = os.path.abspath(\"../../\")\n",
        "\n",
        "sys.path.append(ROOT_DIR)\n",
        "\n",
        "from mrcnn import utils\n",
        "from mrcnn import visualize\n",
        "from mrcnn.visualize import display_images\n",
        "from mrcnn.visualize import display_instances\n",
        "import mrcnn.model as modellib\n",
        "from mrcnn.model import log\n",
        "from mrcnn.config import Config\n",
        "from mrcnn import model as modellib, utils\n",
        "\n",
        "COCO_WEIGHTS_PATH = os.path.join(ROOT_DIR, \"mask_rcnn_coco.h5\")\n",
        "WEIGHTS_PATH = os.path.join(ROOT_DIR, \"mask_rcnn_coco.h5\")\n",
        "\n",
        "DEFAULT_LOGS_DIR = os.path.join(ROOT_DIR, \"logs\")\n",
        "\n",
        "print(ROOT_DIR)\n",
        "print(COCO_WEIGHTS_PATH)\n",
        "\n",
        "%matplotlib inline "
      ],
      "metadata": {
        "id": "TAVMRqoy0c1Y",
        "colab": {
          "base_uri": "https://localhost:8080/"
        },
        "outputId": "fd8cafb7-b17b-4980-9f7b-14b26565f8f4"
      },
      "execution_count": 4,
      "outputs": [
        {
          "output_type": "stream",
          "name": "stdout",
          "text": [
            "/\n",
            "/mask_rcnn_coco.h5\n"
          ]
        },
        {
          "output_type": "stream",
          "name": "stderr",
          "text": [
            "Using TensorFlow backend.\n"
          ]
        }
      ]
    },
    {
      "cell_type": "code",
      "source": [
        "class CustomConfig(Config):\n",
        "    NAME = \"object\"\n",
        "    IMAGES_PER_GPU = 1\n",
        "    NUM_CLASSES = 1 + 1  # Background + banyaknya objek\n",
        "    STEPS_PER_EPOCH = 10\n",
        "    DETECTION_MIN_CONFIDENCE = 0.9"
      ],
      "metadata": {
        "id": "KCVD2ePn01u0"
      },
      "execution_count": 5,
      "outputs": []
    },
    {
      "cell_type": "code",
      "source": [
        "config = CustomConfig()\n",
        "CUSTOM_DIR = os.path.join(ROOT_DIR, \"/dataset/\")\n",
        "class InferenceConfig(config.__class__):\n",
        "    # Run detection on one image at a time\n",
        "    GPU_COUNT = 1\n",
        "    IMAGES_PER_GPU = 1\n",
        "    DETECTION_MIN_CONFIDENCE = 0.7\n",
        "\n",
        "config = InferenceConfig()\n",
        "config.display()\n"
      ],
      "metadata": {
        "id": "eiDBZHkp1JBg",
        "colab": {
          "base_uri": "https://localhost:8080/"
        },
        "outputId": "d41124c6-4de7-4a62-87d7-f1c1e0d3afc8"
      },
      "execution_count": 6,
      "outputs": [
        {
          "output_type": "stream",
          "name": "stdout",
          "text": [
            "\n",
            "Configurations:\n",
            "BACKBONE                       resnet101\n",
            "BACKBONE_STRIDES               [4, 8, 16, 32, 64]\n",
            "BATCH_SIZE                     1\n",
            "BBOX_STD_DEV                   [0.1 0.1 0.2 0.2]\n",
            "COMPUTE_BACKBONE_SHAPE         None\n",
            "DETECTION_MAX_INSTANCES        100\n",
            "DETECTION_MIN_CONFIDENCE       0.7\n",
            "DETECTION_NMS_THRESHOLD        0.3\n",
            "FPN_CLASSIF_FC_LAYERS_SIZE     1024\n",
            "GPU_COUNT                      1\n",
            "GRADIENT_CLIP_NORM             5.0\n",
            "IMAGES_PER_GPU                 1\n",
            "IMAGE_CHANNEL_COUNT            3\n",
            "IMAGE_MAX_DIM                  1024\n",
            "IMAGE_META_SIZE                14\n",
            "IMAGE_MIN_DIM                  800\n",
            "IMAGE_MIN_SCALE                0\n",
            "IMAGE_RESIZE_MODE              square\n",
            "IMAGE_SHAPE                    [1024 1024    3]\n",
            "LEARNING_MOMENTUM              0.9\n",
            "LEARNING_RATE                  0.001\n",
            "LOSS_WEIGHTS                   {'rpn_class_loss': 1.0, 'rpn_bbox_loss': 1.0, 'mrcnn_class_loss': 1.0, 'mrcnn_bbox_loss': 1.0, 'mrcnn_mask_loss': 1.0}\n",
            "MASK_POOL_SIZE                 14\n",
            "MASK_SHAPE                     [28, 28]\n",
            "MAX_GT_INSTANCES               100\n",
            "MEAN_PIXEL                     [123.7 116.8 103.9]\n",
            "MINI_MASK_SHAPE                (56, 56)\n",
            "NAME                           object\n",
            "NUM_CLASSES                    2\n",
            "POOL_SIZE                      7\n",
            "POST_NMS_ROIS_INFERENCE        1000\n",
            "POST_NMS_ROIS_TRAINING         2000\n",
            "PRE_NMS_LIMIT                  6000\n",
            "ROI_POSITIVE_RATIO             0.33\n",
            "RPN_ANCHOR_RATIOS              [0.5, 1, 2]\n",
            "RPN_ANCHOR_SCALES              (32, 64, 128, 256, 512)\n",
            "RPN_ANCHOR_STRIDE              1\n",
            "RPN_BBOX_STD_DEV               [0.1 0.1 0.2 0.2]\n",
            "RPN_NMS_THRESHOLD              0.7\n",
            "RPN_TRAIN_ANCHORS_PER_IMAGE    256\n",
            "STEPS_PER_EPOCH                10\n",
            "TOP_DOWN_PYRAMID_SIZE          256\n",
            "TRAIN_BN                       False\n",
            "TRAIN_ROIS_PER_IMAGE           200\n",
            "USE_MINI_MASK                  True\n",
            "USE_RPN_ROIS                   True\n",
            "VALIDATION_STEPS               50\n",
            "WEIGHT_DECAY                   0.0001\n",
            "\n",
            "\n"
          ]
        }
      ]
    },
    {
      "cell_type": "code",
      "source": [
        "class CustomDataset(utils.Dataset):\n",
        "    def load_custom(self, dataset_dir, subset):\n",
        "\n",
        "        self.add_class(\"object\", 1, \"laptop\")\n",
        "\n",
        "        assert subset in [\"train\", \"val\"]\n",
        "        dataset_dir = os.path.join(dataset_dir, subset)\n",
        "        annotations1 = json.load(open('/content/drive/MyDrive/Mask_R-CNN/mask3/dataset/train/custom_laptop.json'))\n",
        "\n",
        "        annotations = list(annotations1.values())\n",
        "\n",
        "        annotations = [a for a in annotations if a['regions']]\n",
        "        \n",
        "        # Add images\n",
        "        for a in annotations:\n",
        "           \n",
        "            polygons = [r['shape_attributes'] for r in a['regions']] \n",
        "            objects = [s['region_attributes']['name'] for s in a['regions']]\n",
        "            print(\"objects:\",objects)\n",
        "            name_dict = {\"laptop\": 1}\n",
        "            num_ids = [name_dict[a] for a in objects]\n",
        "\n",
        "            print(\"numids\",num_ids)\n",
        "            image_path = os.path.join(dataset_dir, a['filename'])\n",
        "            image = skimage.io.imread(image_path)\n",
        "            height, width = image.shape[:2]\n",
        "\n",
        "            self.add_image(\n",
        "                \"object\", \n",
        "                image_id=a['filename'],  # use file name as a unique image id\n",
        "                path=image_path,\n",
        "                width=width, height=height,\n",
        "                polygons=polygons,\n",
        "                num_ids=num_ids\n",
        "                )\n",
        "\n",
        "    def load_mask(self, image_id):\n",
        "       \n",
        "        image_info = self.image_info[image_id]\n",
        "        if image_info[\"source\"] != \"object\":\n",
        "            return super(self.__class__, self).load_mask(image_id)\n",
        "\n",
        "        info = self.image_info[image_id]\n",
        "        if info[\"source\"] != \"object\":\n",
        "            return super(self.__class__, self).load_mask(image_id)\n",
        "        num_ids = info['num_ids']\n",
        "        mask = np.zeros([info[\"height\"], info[\"width\"], len(info[\"polygons\"])],\n",
        "                        dtype=np.uint8)\n",
        "        for i, p in enumerate(info[\"polygons\"]):\n",
        "\n",
        "        \trr, cc = skimage.draw.polygon(p['all_points_y'], p['all_points_x'])\n",
        "\n",
        "        \tmask[rr, cc, i] = 1\n",
        "\n",
        "        num_ids = np.array(num_ids, dtype=np.int32)\n",
        "        return mask, num_ids #np.ones([mask.shape[-1]], dtype=np.int32)\n",
        "\n",
        "    def image_reference(self, image_id):\n",
        "        \"\"\"Return the path of the image.\"\"\"\n",
        "        info = self.image_info[image_id]\n",
        "        if info[\"source\"] == \"object\":\n",
        "            return info[\"path\"]\n",
        "        else:\n",
        "            super(self.__class__, self).image_reference(image_id)"
      ],
      "metadata": {
        "id": "xZeHLPe91dgw"
      },
      "execution_count": 7,
      "outputs": []
    },
    {
      "cell_type": "code",
      "source": [
        "TEST_MODE = \"inference\"\n",
        "ROOT_DIR = \"/content/drive/MyDrive/Mask_R-CNN/mask3/dataset\"\n",
        "\n",
        "def get_ax(rows=1, cols=1, size=16):\n",
        "  _, ax = plt.subplots(rows, cols, figsize=(size*cols, size*rows))\n",
        "  return ax\n",
        "\n",
        "# Load validation dataset\n",
        "# Must call before using the dataset\n",
        "CUSTOM_DIR = \"/content/drive/MyDrive/Mask_R-CNN/mask3/dataset\"\n",
        "dataset = CustomDataset()\n",
        "dataset.load_custom(CUSTOM_DIR, \"val\")\n",
        "dataset.prepare()\n",
        "print(\"Images: {}\\nClasses: {}\".format(len(dataset.image_ids), dataset.class_names))"
      ],
      "metadata": {
        "colab": {
          "base_uri": "https://localhost:8080/"
        },
        "id": "4fl3fanj2OSl",
        "outputId": "d589eea8-8cca-4ef0-d13c-ce37fd39b753"
      },
      "execution_count": 8,
      "outputs": [
        {
          "output_type": "stream",
          "name": "stdout",
          "text": [
            "objects: ['laptop']\n",
            "numids [1]\n",
            "objects: ['laptop']\n",
            "numids [1]\n",
            "objects: ['laptop']\n",
            "numids [1]\n",
            "objects: ['laptop']\n",
            "numids [1]\n",
            "Images: 4\n",
            "Classes: ['BG', 'laptop']\n"
          ]
        }
      ]
    },
    {
      "cell_type": "code",
      "source": [
        "config = CustomConfig()\n",
        "#LOAD MODEL. Create model in inference mode\n",
        "MODEL_DIR = '/'\n",
        "model = modellib.MaskRCNN(mode=\"inference\", model_dir='/content/drive/MyDrive/Mask_R-CNN/mask3/model', config=config)"
      ],
      "metadata": {
        "id": "vT19-7fR2p-h"
      },
      "execution_count": 21,
      "outputs": []
    },
    {
      "cell_type": "code",
      "source": [
        "# Load COCO weights\n",
        "weights_path = '/content/drive/MyDrive/Mask_R-CNN/mask3/mask_rcnn_coco.h5'\n",
        "\n",
        "# model.load_weights(weights_path, by_name=True)\n",
        "\n",
        "model.load_weights(weights_path, by_name=True,\n",
        "                       exclude=[\"mrcnn_class_logits\", \"mrcnn_bbox_fc\",\n",
        "                                \"mrcnn_bbox\", \"mrcnn_mask\"])"
      ],
      "metadata": {
        "colab": {
          "base_uri": "https://localhost:8080/"
        },
        "id": "tNFPBco36tiy",
        "outputId": "e0c69495-8380-46bc-883b-b5f8582a4022"
      },
      "execution_count": 24,
      "outputs": [
        {
          "output_type": "stream",
          "name": "stdout",
          "text": [
            "/content/drive/MyDrive/Mask_R-CNN/mask3/mask_rcnn_coco.h5\n",
            "Loading weights  /content/drive/MyDrive/Mask_R-CNN/mask3/mask_rcnn_coco.h5\n"
          ]
        }
      ]
    },
    {
      "cell_type": "code",
      "source": [
        "image_id = random.choice(dataset.image_ids)\n",
        "print(\"image id is :\",image_id)\n",
        "image, image_meta, gt_class_id, gt_bbox, gt_mask =\\\n",
        "modellib.load_image_gt(dataset, config, image_id, use_mini_mask=False)\n",
        "info = dataset.image_info[image_id]\n",
        "print(\"image ID: {}.{} ({}) {}\".format(info[\"source\"], info[\"id\"], image_id,dataset.image_reference(image_id)))\n",
        "\n",
        "# Run object detection\n",
        "results = model.detect([image], verbose=1)"
      ],
      "metadata": {
        "colab": {
          "base_uri": "https://localhost:8080/"
        },
        "id": "WoN2rnUZJuwE",
        "outputId": "b03e9170-c5a7-4378-fb9c-6ba64af36453"
      },
      "execution_count": 25,
      "outputs": [
        {
          "output_type": "stream",
          "name": "stdout",
          "text": [
            "image id is : 2\n",
            "image ID: object.003.jpg (2) /content/drive/MyDrive/Mask_R-CNN/mask3/dataset/val/003.jpg\n",
            "Processing 1 images\n",
            "image                    shape: (1024, 1024, 3)       min:    0.00000  max:  255.00000  uint8\n",
            "molded_images            shape: (1, 1024, 1024, 3)    min: -123.70000  max:  151.10000  float64\n",
            "image_metas              shape: (1, 14)               min:    0.00000  max: 1024.00000  int64\n",
            "anchors                  shape: (1, 261888, 4)        min:   -0.35390  max:    1.29134  float32\n"
          ]
        }
      ]
    },
    {
      "cell_type": "code",
      "source": [
        "x = get_ax(1)\n",
        "r = results[0]\n",
        "ax = plt.gca()\n",
        "visualize.display_instances(image, r['rois'], r['masks'], r['class_ids'], dataset.class_names, r['scores'], ax=ax, title=\"Predictions\")\n",
        "log(\"gt_class_id\", gt_class_id)\n",
        "log(\"gt_bbox\", gt_bbox)\n",
        "log(\"gt_mask\", gt_mask)\n",
        "# This is for predicting images which are not present in dataset\n",
        "path_to_new_image = '/content/drive/MyDrive/Mask_R-CNN/mask3/human.jpg'\n",
        "image1 = mpimg.imread(path_to_new_image)\n",
        "\n",
        "# Run object detection\n",
        "print(len([image1]))\n",
        "results1 = model.detect([image1], verbose=1)\n",
        "\n",
        "# Display results\n",
        "ax = get_ax(1)\n",
        "r1 = results1[0]\n",
        "visualize.display_instances(image1, r1['rois'], r1['masks'], r1['class_ids'],\n",
        "dataset.class_names, r1['scores'], ax=ax, title=\"Predictions1\")"
      ],
      "metadata": {
        "id": "iBgoFjJdJ69d"
      },
      "execution_count": null,
      "outputs": []
    }
  ]
}