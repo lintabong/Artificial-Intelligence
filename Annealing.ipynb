{
  "nbformat": 4,
  "nbformat_minor": 0,
  "metadata": {
    "colab": {
      "name": "Annealing.ipynb",
      "provenance": [],
      "authorship_tag": "ABX9TyOXLwCdqxccdU9W9PP5hks0",
      "include_colab_link": true
    },
    "kernelspec": {
      "name": "python3",
      "display_name": "Python 3"
    },
    "language_info": {
      "name": "python"
    }
  },
  "cells": [
    {
      "cell_type": "markdown",
      "metadata": {
        "id": "view-in-github",
        "colab_type": "text"
      },
      "source": [
        "<a href=\"https://colab.research.google.com/github/lintabong/Artificial-Intelligence/blob/main/Annealing.ipynb\" target=\"_parent\"><img src=\"https://colab.research.google.com/assets/colab-badge.svg\" alt=\"Open In Colab\"/></a>"
      ]
    },
    {
      "cell_type": "markdown",
      "source": [
        "Import library needed to make simulated annealing"
      ],
      "metadata": {
        "id": "bGbjXr2iBjcE"
      }
    },
    {
      "cell_type": "code",
      "execution_count": 129,
      "metadata": {
        "id": "1PtJVk2ruO1s"
      },
      "outputs": [],
      "source": [
        "import pandas as pd\n",
        "import numpy as np\n",
        "import copy\n",
        "import math\n",
        "import random\n",
        "from math import e\n",
        "import matplotlib.pyplot as plt\n",
        "import datetime\n",
        "import random\n",
        "import time"
      ]
    },
    {
      "cell_type": "code",
      "source": [
        "tMax          = 1000\n",
        "tMin          = 1\n",
        "coolingRate   = 0.9\n",
        "maxIteration  = 50\n",
        "\n",
        "tNow          = tMax\n",
        "iteration     = 0\n",
        "gen           = 7\n",
        "\n",
        "method        = ''"
      ],
      "metadata": {
        "id": "fnikyVulvk05"
      },
      "execution_count": 130,
      "outputs": []
    },
    {
      "cell_type": "code",
      "source": [
        "# data  A0 A1 A2 A3 A4 A5 A6\n",
        "time = [[0, 5, 6, 2, 1, 4, 7], # A0\n",
        "        [5, 0, 3, 4, 4, 7, 2], # A1\n",
        "        [6, 3, 0, 3, 5, 2, 1], # A2\n",
        "        [2, 4, 3, 0, 1, 3, 2], # A3\n",
        "        [1, 4, 5, 1, 0, 3, 3], # A4\n",
        "        [4, 7, 2, 3, 3, 0, 4], # A5\n",
        "        [7, 2, 1, 2, 3, 4, 0]] # A6"
      ],
      "metadata": {
        "id": "-_L37e5D55_6"
      },
      "execution_count": 131,
      "outputs": []
    },
    {
      "cell_type": "code",
      "source": [
        "def fitness_val(x: list):\n",
        "  timeConsume = 0\n",
        "  x_fitness   = 0\n",
        "  for i in range(len(x)):\n",
        "    if i <= len(x) - 2:\n",
        "      timeConsume = timeConsume + time[int(x[i])][int(x[i+1])]\n",
        "  \n",
        "  x_fitness = 1 / (1 + timeConsume)\n",
        "  \n",
        "  return timeConsume, x_fitness"
      ],
      "metadata": {
        "id": "eDLUiCzyEhFO"
      },
      "execution_count": 132,
      "outputs": []
    },
    {
      "cell_type": "code",
      "source": [
        "def method_swap(x1: list, x2: list):\n",
        "  sw0 = random.randint(1, len(x1) - 3)\n",
        "  sw1 = random.randint(1, len(x2) - 3)\n",
        "\n",
        "  val0 = x1[sw0]\n",
        "  val1 = x2[sw1]\n",
        "\n",
        "  for i in range(len(x1)):\n",
        "    if i == sw0:\n",
        "      x1[i] = val1\n",
        "    elif i == sw1:\n",
        "      x1[i] = val0\n",
        "    else:\n",
        "      x1[i] = x2[i]\n",
        "\n",
        "  return x1"
      ],
      "metadata": {
        "id": "XZL7Tb5GgczH"
      },
      "execution_count": 133,
      "outputs": []
    },
    {
      "cell_type": "code",
      "source": [
        "def method_insert(x1: list, x2: list):\n",
        "  in0 = random.randint(1,len(x1) - 3)\n",
        "  in1 = len(x1) - 2\n",
        "  in2 = len(x1) - 1\n",
        "\n",
        "  val0 = x2[in0]\n",
        "  val1 = x2[in1]\n",
        "  val2 = x2[in2]\n",
        "\n",
        "  del x1[in2]\n",
        "  del x1[in1]\n",
        "  del x1[in0]\n",
        "\n",
        "  x1.append(val0)\n",
        "  x1.append(val1)\n",
        "  x1.append(val2)\n",
        "\n",
        "  return x1"
      ],
      "metadata": {
        "id": "nvKoqE1VHAxE"
      },
      "execution_count": 134,
      "outputs": []
    },
    {
      "cell_type": "code",
      "source": [
        "def method_twoopt(x1: list, x2: list):\n",
        "  opt0 = round((len(x2) - 3)/2)\n",
        "  opt1 = len(x2) - (sw0 + 1)\n",
        "\n",
        "  val0  = x1[opt0]\n",
        "  val1  = x1[opt1]\n",
        "\n",
        "  for i in range(len(x1)):\n",
        "    if i == opt0:\n",
        "      x1[i] = val1\n",
        "    elif i == opt1:\n",
        "      x1[i] = val0\n",
        "    else:\n",
        "      x1[i] = x2[i]\n",
        "    \n",
        "  return x1"
      ],
      "metadata": {
        "id": "MCBKHpA4GjGv"
      },
      "execution_count": 135,
      "outputs": []
    },
    {
      "cell_type": "code",
      "source": [
        "iteration = 0\n",
        "X = [0,1,2,3,4,5,6,0]\n",
        "\n",
        "while tNow > tMin:\n",
        "  r = random.random()\n",
        "  offspring0  = [i for i in X]\n",
        "  offspring1  = [i for i in X]\n",
        "\n",
        "  # define the process\n",
        "  if r <= 0.33:\n",
        "    method  = 'swap  '\n",
        "    Xnew    = method_swap(offspring0, offspring1)\n",
        "\n",
        "  elif r >= 0.33 and r <= 66:\n",
        "    method  = 'insert'\n",
        "    Xnew    = method_insert(offspring0, offspring1)\n",
        "\n",
        "  else:\n",
        "    method = '2opt  '\n",
        "    Xnew    = method_twoopt(offspring0, offspring1)\n",
        "\n",
        "  # fitness and time measurement\n",
        "  X_fitness       = fitness_val(X)\n",
        "  X_fitness_new   = fitness_val(Xnew)\n",
        "\n",
        "  print(iteration, method, X, X_fitness[0], X_fitness_new[0])\n",
        "  # print(X,Xnew, X_fitness[0], X_fitness_new[0])\n",
        "\n",
        "  iteration = iteration + 1\n",
        "  if iteration == maxIteration:\n",
        "    # tNow = tNow * coolingRate\n",
        "    break\n",
        "  \n",
        "  X = Xnew  "
      ],
      "metadata": {
        "id": "h2lu49_dFBD-"
      },
      "execution_count": null,
      "outputs": []
    }
  ]
}