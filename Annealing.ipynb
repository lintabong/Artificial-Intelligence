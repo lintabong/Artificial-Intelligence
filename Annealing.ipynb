{
  "nbformat": 4,
  "nbformat_minor": 0,
  "metadata": {
    "colab": {
      "name": "Annealing.ipynb",
      "provenance": [],
      "authorship_tag": "ABX9TyN58YYDwaS9z4hAYspNxjiy",
      "include_colab_link": true
    },
    "kernelspec": {
      "name": "python3",
      "display_name": "Python 3"
    },
    "language_info": {
      "name": "python"
    }
  },
  "cells": [
    {
      "cell_type": "markdown",
      "metadata": {
        "id": "view-in-github",
        "colab_type": "text"
      },
      "source": [
        "<a href=\"https://colab.research.google.com/github/lintabong/Artificial-Intelligence/blob/main/Annealing.ipynb\" target=\"_parent\"><img src=\"https://colab.research.google.com/assets/colab-badge.svg\" alt=\"Open In Colab\"/></a>"
      ]
    },
    {
      "cell_type": "markdown",
      "source": [
        "Import library needed to make simulated annealing"
      ],
      "metadata": {
        "id": "bGbjXr2iBjcE"
      }
    },
    {
      "cell_type": "code",
      "execution_count": 1,
      "metadata": {
        "id": "1PtJVk2ruO1s"
      },
      "outputs": [],
      "source": [
        "import pandas as pd\n",
        "import numpy as np\n",
        "import copy\n",
        "import math\n",
        "import random\n",
        "from math import e\n",
        "import matplotlib.pyplot as plt\n",
        "import datetime\n",
        "import random\n",
        "import time"
      ]
    },
    {
      "cell_type": "code",
      "source": [
        "tMax          = 1000\n",
        "tMin          = 1\n",
        "coolingRate   = 0.9\n",
        "maxIteration  = 50\n",
        "\n",
        "tNow          = tMax\n",
        "iteration     = 0\n",
        "gen           = 7\n",
        "\n",
        "method        = ''"
      ],
      "metadata": {
        "id": "fnikyVulvk05"
      },
      "execution_count": 2,
      "outputs": []
    },
    {
      "cell_type": "code",
      "source": [
        "# data  A0 A1 A2 A3 A4 A5 A6\n",
        "time = [[0, 5, 6, 2, 1, 4, 7], # A0\n",
        "        [5, 0, 3, 4, 4, 7, 2], # A1\n",
        "        [6, 3, 0, 3, 5, 2, 1], # A2\n",
        "        [2, 4, 3, 0, 1, 3, 2], # A3\n",
        "        [1, 4, 5, 1, 0, 3, 3], # A4\n",
        "        [4, 7, 2, 3, 3, 0, 4], # A5\n",
        "        [7, 2, 1, 2, 3, 4, 0]] # A6"
      ],
      "metadata": {
        "id": "-_L37e5D55_6"
      },
      "execution_count": 3,
      "outputs": []
    },
    {
      "cell_type": "code",
      "source": [
        "# X = np.zeros(gen + 1, dtype= int)\n",
        "\n",
        "# print(X)\n",
        "\n",
        "# for i in range(len(X)):\n",
        "#   if i == len(X) - 1:\n",
        "#     X[i] = 0\n",
        "#   else:\n",
        "#     X[i] = i\n",
        "\n",
        "# print(X)\n",
        "X = [0,1,2,3,4,5,6,0]\n",
        "\n",
        "print(X)"
      ],
      "metadata": {
        "colab": {
          "base_uri": "https://localhost:8080/"
        },
        "id": "-RLyHyfB5oUP",
        "outputId": "c1e11ee0-4294-49f9-c206-5d26ab054aa3"
      },
      "execution_count": 10,
      "outputs": [
        {
          "output_type": "stream",
          "name": "stdout",
          "text": [
            "[0, 1, 2, 3, 4, 5, 6, 0]\n"
          ]
        }
      ]
    },
    {
      "cell_type": "markdown",
      "source": [
        "fitness function measurement"
      ],
      "metadata": {
        "id": "W5vCo0_F-wrC"
      }
    },
    {
      "cell_type": "code",
      "source": [
        "timeConsume = 0\n",
        "\n",
        "for i in range(len(X)):\n",
        "  if i <= len(X) - 2:\n",
        "    timeConsume = timeConsume + time[int(X[i])][int(X[i+1])]\n",
        "\n",
        "print('total time:', timeConsume)\n",
        "\n",
        "X_fitness = 1 / (1 + timeConsume)\n",
        "\n",
        "print('fitness value:', X_fitness)"
      ],
      "metadata": {
        "colab": {
          "base_uri": "https://localhost:8080/"
        },
        "id": "UndLwBxH-wMe",
        "outputId": "eec73d40-e498-4b71-ac54-cbbdd89d5e61"
      },
      "execution_count": 11,
      "outputs": [
        {
          "output_type": "stream",
          "name": "stdout",
          "text": [
            "total time: 26\n",
            "fitness value: 0.037037037037037035\n"
          ]
        }
      ]
    },
    {
      "cell_type": "code",
      "source": [
        "iteration = 0\n",
        "\n",
        "while tNow > tMin:\n",
        "  r = random.random()\n",
        "\n",
        "  # define the process\n",
        "  if r <= 0.33:\n",
        "    method = 'swap  '\n",
        "\n",
        "  elif r >= 0.33 and r <= 66:\n",
        "    method = 'insert'\n",
        "\n",
        "  else:\n",
        "    method = '2opt  '\n",
        "\n",
        "  # fitness measurement\n",
        "\n",
        "\n",
        "  \n",
        "  iteration = iteration + 1\n",
        "  if iteration == maxIteration:\n",
        "    # tNow = tNow * coolingRate\n",
        "    break\n",
        "  \n",
        "  print(iteration, method, X)\n",
        "\n",
        "  "
      ],
      "metadata": {
        "id": "h2lu49_dFBD-"
      },
      "execution_count": null,
      "outputs": []
    },
    {
      "cell_type": "code",
      "source": [
        "Xnew      = [i for i in X]\n",
        "offspring = [i for i in X]\n",
        "\n",
        "sw0 = round((len(offspring) - 3)/2)\n",
        "sw1 = len(offspring) - (sw0 + 1)\n",
        "\n",
        "val0  = Xnew[sw0]\n",
        "val1  = Xnew[sw1]\n",
        "\n",
        "for i in range(len(Xnew)):\n",
        "  if i == sw0:\n",
        "    Xnew[i] = val1\n",
        "  elif i == sw1:\n",
        "    Xnew[i] = val0\n",
        "  else:\n",
        "    Xnew[i] = offspring[i]\n",
        "\n",
        "print(X)\n",
        "print(Xnew)"
      ],
      "metadata": {
        "colab": {
          "base_uri": "https://localhost:8080/"
        },
        "id": "UfnNXWE9H4oK",
        "outputId": "d6abac3b-0934-4fb3-d5e3-24890ebb9e4a"
      },
      "execution_count": 26,
      "outputs": [
        {
          "output_type": "stream",
          "name": "stdout",
          "text": [
            "[0, 1, 2, 3, 4, 5, 6, 0]\n",
            "[0, 1, 5, 3, 4, 2, 6, 0]\n"
          ]
        }
      ]
    },
    {
      "cell_type": "code",
      "source": [
        "Xnew      = [i for i in X]\n",
        "offspring = [i for i in X]\n",
        "\n",
        "in0 = random.randint(1,len(Xnew) - 3)\n",
        "\n",
        "val0 = Xnew[get_del]\n",
        "val1 = Xnew[len(Xnew) - 2]\n",
        "\n",
        "print(val0, val1)"
      ],
      "metadata": {
        "colab": {
          "base_uri": "https://localhost:8080/"
        },
        "id": "Q7v74wE5Bpa5",
        "outputId": "86a86fe1-88ec-482f-991f-c1c8c269e727"
      },
      "execution_count": 50,
      "outputs": [
        {
          "output_type": "stream",
          "name": "stdout",
          "text": [
            "2 6\n"
          ]
        }
      ]
    }
  ]
}