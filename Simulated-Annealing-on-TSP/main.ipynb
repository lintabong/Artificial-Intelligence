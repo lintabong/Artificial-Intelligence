{
  "nbformat": 4,
  "nbformat_minor": 0,
  "metadata": {
    "colab": {
      "name": "Annealing.ipynb",
      "provenance": [],
      "authorship_tag": "ABX9TyOzYMa7eTB9XMufrrgGzn6F",
      "include_colab_link": true
    },
    "kernelspec": {
      "name": "python3",
      "display_name": "Python 3"
    },
    "language_info": {
      "name": "python"
    }
  },
  "cells": [
    {
      "cell_type": "markdown",
      "metadata": {
        "id": "view-in-github",
        "colab_type": "text"
      },
      "source": [
        "<a href=\"https://colab.research.google.com/github/lintabong/Artificial-Intelligence/blob/main/Simulated-Annealing-on-TSP/main.ipynb\" target=\"_parent\"><img src=\"https://colab.research.google.com/assets/colab-badge.svg\" alt=\"Open In Colab\"/></a>"
      ]
    },
    {
      "cell_type": "markdown",
      "source": [
        "Import library needed to make simulated annealing"
      ],
      "metadata": {
        "id": "bGbjXr2iBjcE"
      }
    },
    {
      "cell_type": "code",
      "execution_count": 2,
      "metadata": {
        "id": "1PtJVk2ruO1s"
      },
      "outputs": [],
      "source": [
        "import pandas as pd\n",
        "import numpy as np\n",
        "import copy\n",
        "import math\n",
        "import random\n",
        "from math import e\n",
        "import matplotlib.pyplot as plt\n",
        "import datetime\n",
        "import random\n",
        "import time"
      ]
    },
    {
      "cell_type": "code",
      "source": [
        "tMax          = 1000\n",
        "tMin          = 1\n",
        "coolingRate   = 0.009\n",
        "maxIteration  = 50\n",
        "\n",
        "tNow          = tMax\n",
        "iteration     = 0\n",
        "gen           = 7\n",
        "\n",
        "method        = ''"
      ],
      "metadata": {
        "id": "fnikyVulvk05"
      },
      "execution_count": 9,
      "outputs": []
    },
    {
      "cell_type": "code",
      "source": [
        "# data  A0 A1 A2 A3 A4 A5 A6\n",
        "time = [[0, 5, 6, 2, 1, 4, 7], # A0\n",
        "        [5, 0, 3, 4, 4, 7, 2], # A1\n",
        "        [6, 3, 0, 3, 5, 2, 1], # A2\n",
        "        [2, 4, 3, 0, 1, 3, 2], # A3\n",
        "        [1, 4, 5, 1, 0, 3, 3], # A4\n",
        "        [4, 7, 2, 3, 3, 0, 4], # A5\n",
        "        [7, 2, 1, 2, 3, 4, 0]] # A6"
      ],
      "metadata": {
        "id": "-_L37e5D55_6"
      },
      "execution_count": 4,
      "outputs": []
    },
    {
      "cell_type": "code",
      "source": [
        "def fitness_val(x: list):\n",
        "  timeConsume = 0\n",
        "  x_fitness   = 0\n",
        "  for i in range(len(x)):\n",
        "    if i <= len(x) - 2:\n",
        "      timeConsume = timeConsume + time[int(x[i])][int(x[i+1])]\n",
        "  \n",
        "  x_fitness = 1 / (1 + timeConsume)\n",
        "  \n",
        "  return timeConsume, x_fitness\n",
        "\n",
        "def method_swap(x1: list, x2: list):\n",
        "  sw0 = random.randint(1, len(x1) - 2)\n",
        "  sw1 = random.randint(1, len(x2) - 3)\n",
        "\n",
        "  val0 = x1[sw0]\n",
        "  val1 = x2[sw1]\n",
        "\n",
        "  for i in range(len(x1)):\n",
        "    if i == sw0:\n",
        "      x1[i] = val1\n",
        "    elif i == sw1:\n",
        "      x1[i] = val0\n",
        "    else:\n",
        "      x1[i] = x2[i]\n",
        "\n",
        "  return x1\n",
        "\n",
        "def method_insert(x1: list, x2: list):\n",
        "  in0 = random.randint(1,len(x1) - 3)\n",
        "  in1 = len(x1) - 2\n",
        "  in2 = len(x1) - 1\n",
        "\n",
        "  val0 = x2[in0]\n",
        "  val1 = x2[in1]\n",
        "  val2 = x2[in2]\n",
        "\n",
        "  del x1[in2]\n",
        "  del x1[in1]\n",
        "  del x1[in0]\n",
        "\n",
        "  x1.append(val0)\n",
        "  x1.append(val1)\n",
        "  x1.append(val2)\n",
        "\n",
        "  return x1\n",
        "\n",
        "def method_twoopt(x1: list, x2: list):\n",
        "  opt0 = round((len(x2) - 3)/2)\n",
        "  opt1 = len(x2) - (opt0 + 1)\n",
        "\n",
        "  val0  = x1[opt0]\n",
        "  val1  = x1[opt1]\n",
        "\n",
        "  for i in range(len(x1)):\n",
        "    if i == opt0:\n",
        "      x1[i] = val1\n",
        "    elif i == opt1:\n",
        "      x1[i] = val0\n",
        "    else:\n",
        "      x1[i] = x2[i]\n",
        "    \n",
        "  return x1"
      ],
      "metadata": {
        "id": "eDLUiCzyEhFO"
      },
      "execution_count": 5,
      "outputs": []
    },
    {
      "cell_type": "code",
      "source": [
        "iteration = 0\n",
        "tNow      = 1000\n",
        "X         = [0,1,2,3,4,5,6,0]\n",
        "\n",
        "while tNow > tMin:\n",
        "  for ctrl in range(50):\n",
        "    # define the process (swap/insert/2opt)\n",
        "    p = random.random()\n",
        "    offspring0  = [i for i in X]\n",
        "    offspring1  = [i for i in X]\n",
        "    if p <= 0.33:\n",
        "      method  = 'swap  '\n",
        "      Xnew    = method_swap(offspring0, offspring1)\n",
        "\n",
        "    elif p >= 0.33 and p <= 0.66:\n",
        "      method  = 'insert'\n",
        "      Xnew    = method_insert(offspring0, offspring1)\n",
        "\n",
        "    else:\n",
        "      method = '2opt  '\n",
        "      Xnew    = method_twoopt(offspring0, offspring1)\n",
        "\n",
        "    # fitness and time measurement\n",
        "    X_fitness       = fitness_val(X)\n",
        "    X_fitness_new   = fitness_val(Xnew)\n",
        "\n",
        "    delta_energy = X_fitness_new[1] - X_fitness[1]\n",
        "\n",
        "    if delta_energy >= 0:\n",
        "      X = Xnew\n",
        "      tNow = tNow - tNow * coolingRate\n",
        "    else:\n",
        "      P = random.random()\n",
        "      if P >= 0.9:\n",
        "        X = Xnew\n",
        "        tNow = tNow - tNow * coolingRate\n",
        "      else:\n",
        "        pass\n",
        "\n",
        "  # Output style\n",
        "  stri = str(iteration + 1)\n",
        "  if iteration <= 8:\n",
        "    stri = ' ' + stri\n",
        "  else:\n",
        "    stri = stri\n",
        "\n",
        "  print(stri, method, X, X_fitness[0], tNow)\n",
        "  # print(X,Xnew, X_fitness[0], X_fitness_new[0])\n",
        "  iteration = iteration + 1"
      ],
      "metadata": {
        "colab": {
          "base_uri": "https://localhost:8080/"
        },
        "id": "gLkXXvkjxP_w",
        "outputId": "954502aa-6a6c-4265-be99-b3d66d32ce37"
      },
      "execution_count": 28,
      "outputs": [
        {
          "output_type": "stream",
          "name": "stdout",
          "text": [
            " 1 swap   [0, 4, 1, 2, 6, 3, 5, 0] 18 797.7032512414359\n",
            " 2 2opt   [0, 4, 3, 1, 6, 2, 5, 0] 15 677.9023553695449\n",
            " 3 2opt   [0, 1, 5, 3, 2, 6, 4, 0] 18 581.3253598504645\n",
            " 4 swap   [0, 5, 2, 6, 3, 4, 1, 0] 19 485.168234869849\n",
            " 5 swap   [0, 1, 2, 6, 3, 4, 5, 0] 19 419.8274495158893\n",
            " 6 swap   [0, 4, 1, 3, 6, 2, 5, 0] 15 356.77680444788786\n",
            " 7 2opt   [0, 1, 6, 3, 4, 5, 2, 0] 21 282.0405987237296\n",
            " 8 2opt   [0, 6, 1, 4, 5, 3, 2, 0] 29 246.27279835007778\n",
            " 9 2opt   [0, 4, 1, 6, 2, 5, 3, 0] 15 203.68694263153455\n",
            "10 2opt   [0, 3, 5, 6, 2, 1, 4, 0] 15 173.09677245648703\n",
            "11 2opt   [0, 5, 3, 2, 6, 1, 4, 0] 18 151.14500086557612\n",
            "12 swap   [0, 5, 2, 1, 6, 3, 4, 0] 15 135.60560518942745\n",
            "13 2opt   [0, 1, 2, 6, 5, 3, 4, 0] 18 114.2028853273656\n",
            "14 2opt   [0, 1, 6, 3, 2, 5, 4, 0] 18 101.53939812030403\n",
            "15 2opt   [0, 5, 3, 6, 1, 2, 4, 0] 15 83.22522605439225\n",
            "16 insert [0, 5, 2, 6, 3, 1, 4, 0] 18 65.19940831923823\n",
            "17 swap   [0, 3, 6, 1, 2, 5, 4, 0] 15 56.930955366735965\n",
            "18 swap   [0, 2, 5, 1, 6, 3, 4, 0] 15 49.71109036909664\n",
            "19 insert [0, 1, 2, 5, 6, 3, 4, 0] 18 43.0161720870088\n",
            "20 swap   [0, 5, 1, 6, 4, 2, 3, 0] 26 37.22290231979036\n",
            "21 2opt   [0, 4, 5, 2, 6, 1, 3, 0] 15 30.234604071496285\n",
            "22 2opt   [0, 4, 5, 2, 6, 1, 3, 0] 18 26.64007533264989\n",
            "23 swap   [0, 4, 1, 6, 2, 3, 5, 0] 18 22.233536017190524\n",
            "24 2opt   [0, 4, 6, 1, 2, 5, 3, 0] 16 19.76815085538527\n",
            "25 2opt   [0, 6, 1, 2, 3, 5, 4, 0] 22 16.49829771681601\n",
            "26 2opt   [0, 4, 1, 2, 6, 3, 5, 0] 18 13.89436077969125\n",
            "27 swap   [0, 3, 4, 1, 6, 2, 5, 0] 16 11.491727409585112\n",
            "28 swap   [0, 5, 2, 6, 1, 3, 4, 0] 15 9.590878857148164\n",
            "29 swap   [0, 3, 1, 6, 2, 5, 4, 0] 15 8.527385834499723\n",
            "30 insert [0, 2, 5, 1, 6, 3, 4, 0] 21 6.926438251804682\n",
            "31 swap   [0, 5, 2, 1, 6, 4, 3, 0] 15 5.575421102913866\n",
            "32 insert [0, 4, 5, 6, 1, 2, 3, 0] 18 5.002205488218269\n",
            "33 2opt   [0, 5, 2, 6, 1, 4, 3, 0] 16 4.289568965871589\n",
            "34 2opt   [0, 4, 1, 6, 2, 5, 3, 0] 15 3.5158800767914156\n",
            "35 swap   [0, 1, 2, 5, 6, 4, 3, 0] 20 3.0423734683269967\n",
            "36 swap   [0, 1, 6, 5, 3, 2, 4, 0] 23 2.4936352226886878\n",
            "37 insert [0, 5, 2, 6, 1, 3, 4, 0] 15 2.1578010271946573\n",
            "38 swap   [0, 5, 6, 2, 3, 1, 4, 0] 21 1.8671958234300243\n",
            "39 swap   [0, 3, 2, 5, 6, 1, 4, 0] 18 1.6304019442042155\n",
            "40 insert [0, 1, 6, 2, 5, 3, 4, 0] 15 1.360716885981724\n",
            "41 insert [0, 1, 6, 2, 5, 3, 4, 0] 15 1.2772718936825336\n",
            "42 swap   [0, 3, 4, 1, 6, 2, 5, 0] 16 1.0564041529408466\n",
            "43 2opt   [0, 3, 6, 4, 1, 2, 5, 0] 24 0.9392638509431744\n"
          ]
        }
      ]
    }
  ]
}